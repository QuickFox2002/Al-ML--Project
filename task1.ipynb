{
 "cells": [
  {
   "cell_type": "markdown",
   "id": "df51e019",
   "metadata": {},
   "source": [
    "# Task No 1"
   ]
  },
  {
   "cell_type": "code",
   "execution_count": 1,
   "id": "e87ed35b",
   "metadata": {},
   "outputs": [
    {
     "name": "stdout",
     "output_type": "stream",
     "text": [
      "✅ Dataset downloaded to: C:\\Users\\Sameer\\.cache\\kagglehub\\datasets\\uciml\\sms-spam-collection-dataset\\versions\\1\n",
      "  label                                            message\n",
      "0   ham  Go until jurong point, crazy.. Available only ...\n",
      "1   ham                      Ok lar... Joking wif u oni...\n",
      "2  spam  Free entry in 2 a wkly comp to win FA Cup fina...\n",
      "3   ham  U dun say so early hor... U c already then say...\n",
      "4   ham  Nah I don't think he goes to usf, he lives aro...\n",
      "\n",
      "📊 Spam Detection Evaluation:\n",
      "              precision    recall  f1-score   support\n",
      "\n",
      "           0      0.963     1.000     0.981       965\n",
      "           1      1.000     0.753     0.859       150\n",
      "\n",
      "    accuracy                          0.967      1115\n",
      "   macro avg      0.982     0.877     0.920      1115\n",
      "weighted avg      0.968     0.967     0.965      1115\n",
      "\n"
     ]
    },
    {
     "data": {
      "image/png": "[encoded data removed]",
      "text/plain": [
       "<Figure size 640x480 with 2 Axes>"
      ]
     },
     "metadata": {},
     "output_type": "display_data"
    },
    {
     "name": "stdout",
     "output_type": "stream",
     "text": [
      "Input: Congratulations! You have won $1000. → Spam\n",
      "Input: Let’s meet for lunch tomorrow. → Not Spam\n"
     ]
    }
   ],
   "source": [
    "\n",
    "import os\n",
    "import pandas as pd\n",
    "import seaborn as sns\n",
    "import matplotlib.pyplot as plt\n",
    "import kagglehub\n",
    "from sklearn.model_selection import train_test_split\n",
    "from sklearn.feature_extraction.text import TfidfVectorizer\n",
    "from sklearn.naive_bayes import MultinomialNB\n",
    "from sklearn.metrics import classification_report, confusion_matrix\n",
    "\n",
    "# -------------------------------\n",
    "# Step 1: Download Dataset\n",
    "# -------------------------------\n",
    "path = kagglehub.dataset_download(\"uciml/sms-spam-collection-dataset\")\n",
    "print(\"✅ Dataset downloaded to:\", path)\n",
    "\n",
    "# Load dataset\n",
    "df = pd.read_csv(os.path.join(path, \"spam.csv\"), encoding=\"latin-1\")\n",
    "df = df[['v1', 'v2']]\n",
    "df.columns = ['label', 'message']\n",
    "print(df.head())\n",
    "\n",
    "# -------------------------------\n",
    "# Step 2: Preprocess Data\n",
    "# -------------------------------\n",
    "df['label'] = df['label'].map({'ham': 0, 'spam': 1})\n",
    "\n",
    "# Train-test split\n",
    "X_train, X_test, y_train, y_test = train_test_split(\n",
    "    df['message'], df['label'], test_size=0.2, random_state=42\n",
    ")\n",
    "\n",
    "# TF-IDF Vectorization\n",
    "vectorizer = TfidfVectorizer(stop_words=\"english\", lowercase=True)\n",
    "X_train_tfidf = vectorizer.fit_transform(X_train)\n",
    "X_test_tfidf = vectorizer.transform(X_test)\n",
    "\n",
    "# -------------------------------\n",
    "# Step 3: Train Model\n",
    "# -------------------------------\n",
    "model = MultinomialNB()\n",
    "model.fit(X_train_tfidf, y_train)\n",
    "\n",
    "# -------------------------------\n",
    "# Step 4: Evaluation\n",
    "# -------------------------------\n",
    "y_pred = model.predict(X_test_tfidf)\n",
    "print(\"\\n📊 Spam Detection Evaluation:\")\n",
    "print(classification_report(y_test, y_pred, digits=3))\n",
    "\n",
    "cm = confusion_matrix(y_test, y_pred)\n",
    "sns.heatmap(cm, annot=True, fmt=\"d\", cmap=\"Blues\")\n",
    "plt.title(\"Spam Detection - Confusion Matrix\")\n",
    "plt.xlabel(\"Predicted\")\n",
    "plt.ylabel(\"True\")\n",
    "plt.show()\n",
    "\n",
    "# -------------------------------\n",
    "# Step 5: User Input Test\n",
    "# -------------------------------\n",
    "sample_messages = [\n",
    "    \"Congratulations! You have won $1000.\",\n",
    "    \"Let’s meet for lunch tomorrow.\"\n",
    "]\n",
    "\n",
    "for msg in sample_messages:\n",
    "    msg_tfidf = vectorizer.transform([msg])\n",
    "    pred = model.predict(msg_tfidf)[0]\n",
    "    print(f\"Input: {msg} → {'Spam' if pred==1 else 'Not Spam'}\")\n"
   ]
  }
 ],
 "metadata": {
  "kernelspec": {
   "display_name": "Python 3",
   "language": "python",
   "name": "python3"
  },
  "language_info": {
   "codemirror_mode": {
    "name": "ipython",
    "version": 3
   },
   "file_extension": ".py",
   "mimetype": "text/x-python",
   "name": "python",
   "nbconvert_exporter": "python",
   "pygments_lexer": "ipython3",
   "version": "3.13.5"
  }
 },
 "nbformat": 4,
 "nbformat_minor": 5
}
